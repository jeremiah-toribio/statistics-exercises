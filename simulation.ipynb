{
 "cells": [
  {
   "cell_type": "code",
   "execution_count": 1,
   "metadata": {},
   "outputs": [],
   "source": [
    "import numpy as np\n",
    "import pandas as pd"
   ]
  },
  {
   "cell_type": "markdown",
   "metadata": {},
   "source": [
    "### 1. How likely is it that you roll doubles when rolling two dice?"
   ]
  },
  {
   "cell_type": "code",
   "execution_count": 2,
   "metadata": {},
   "outputs": [
    {
     "data": {
      "text/plain": [
       "0.027777777777777776"
      ]
     },
     "execution_count": 2,
     "metadata": {},
     "output_type": "execute_result"
    }
   ],
   "source": [
    "(1/6) * (1/6)"
   ]
  },
  {
   "cell_type": "code",
   "execution_count": 3,
   "metadata": {},
   "outputs": [
    {
     "data": {
      "text/plain": [
       "array([[0.92831554, 0.86968588],\n",
       "       [0.46813415, 0.65346783],\n",
       "       [0.45761913, 0.37654263],\n",
       "       ...,\n",
       "       [0.85337479, 0.66526233],\n",
       "       [0.38222348, 0.79138079],\n",
       "       [0.14183519, 0.7010062 ]])"
      ]
     },
     "execution_count": 3,
     "metadata": {},
     "output_type": "execute_result"
    }
   ],
   "source": [
    "snake_eyes = 0.03\n",
    "double = np.random.random((100000,2))\n",
    "double\n"
   ]
  },
  {
   "cell_type": "code",
   "execution_count": 4,
   "metadata": {},
   "outputs": [
    {
     "data": {
      "text/plain": [
       "array([[False, False],\n",
       "       [False, False],\n",
       "       [False, False],\n",
       "       ...,\n",
       "       [False, False],\n",
       "       [False, False],\n",
       "       [False, False]])"
      ]
     },
     "execution_count": 4,
     "metadata": {},
     "output_type": "execute_result"
    }
   ],
   "source": [
    "double_eyes = double < snake_eyes\n",
    "double_eyes"
   ]
  },
  {
   "cell_type": "markdown",
   "metadata": {},
   "source": [
    "### 2. If you flip 8 coins, what is the probability of getting exactly 3 heads? What is the probability of getting more than 3 heads?"
   ]
  },
  {
   "cell_type": "code",
   "execution_count": 5,
   "metadata": {},
   "outputs": [
    {
     "data": {
      "text/plain": [
       "0.1875"
      ]
     },
     "execution_count": 5,
     "metadata": {},
     "output_type": "execute_result"
    }
   ],
   "source": [
    "# amount of heads looking for divided by total trials\n",
    "1.5 / 8\n",
    "# .19 or 19% is the probability of getting exactly 3 heads"
   ]
  },
  {
   "cell_type": "code",
   "execution_count": 33,
   "metadata": {},
   "outputs": [
    {
     "data": {
      "text/plain": [
       "array([['T', 'T', 'H', ..., 'H', 'T', 'T'],\n",
       "       ['H', 'T', 'H', ..., 'H', 'H', 'H'],\n",
       "       ['H', 'T', 'T', ..., 'H', 'T', 'H'],\n",
       "       ...,\n",
       "       ['H', 'H', 'T', ..., 'T', 'T', 'H'],\n",
       "       ['T', 'T', 'T', ..., 'H', 'H', 'H'],\n",
       "       ['H', 'H', 'H', ..., 'T', 'T', 'T']], dtype='<U1')"
      ]
     },
     "execution_count": 33,
     "metadata": {},
     "output_type": "execute_result"
    }
   ],
   "source": [
    "flips = 8 \n",
    "coin = ['H', 'T']\n",
    "head_count = np.random.choice(coin, (100000, flips))\n",
    "head_count"
   ]
  },
  {
   "cell_type": "code",
   "execution_count": null,
   "metadata": {},
   "outputs": [],
   "source": []
  },
  {
   "cell_type": "code",
   "execution_count": 34,
   "metadata": {},
   "outputs": [
    {
     "data": {
      "text/plain": [
       "array([ True, False, False, ..., False,  True, False])"
      ]
     },
     "execution_count": 34,
     "metadata": {},
     "output_type": "execute_result"
    }
   ],
   "source": [
    "((head_count == 'H').sum(axis=1) == 3)"
   ]
  },
  {
   "cell_type": "code",
   "execution_count": 38,
   "metadata": {},
   "outputs": [
    {
     "data": {
      "text/plain": [
       "0.22208"
      ]
     },
     "execution_count": 38,
     "metadata": {},
     "output_type": "execute_result"
    }
   ],
   "source": [
    "((head_count == 'H').sum(axis=1) == 3).sum() / 100000"
   ]
  },
  {
   "cell_type": "code",
   "execution_count": 39,
   "metadata": {},
   "outputs": [
    {
     "data": {
      "text/plain": [
       "0.63557"
      ]
     },
     "execution_count": 39,
     "metadata": {},
     "output_type": "execute_result"
    }
   ],
   "source": [
    "((head_count == 'H').sum(axis=1) > 3).sum() / 100000"
   ]
  },
  {
   "cell_type": "markdown",
   "metadata": {},
   "source": [
    "### 3. There are approximitely 3 web development cohorts for every 1 data science cohort at Codeup. Assuming that Codeup randomly selects an alumni to put on a billboard, what are the odds that the two billboards I drive past both have data science students on them?"
   ]
  },
  {
   "cell_type": "code",
   "execution_count": 8,
   "metadata": {},
   "outputs": [
    {
     "data": {
      "text/plain": [
       "array([[0.24606703, 0.25647147],\n",
       "       [0.28028412, 0.71092986],\n",
       "       [0.69009581, 0.01507407],\n",
       "       ...,\n",
       "       [0.83459819, 0.57516006],\n",
       "       [0.07633783, 0.50942477],\n",
       "       [0.76309694, 0.78092573]])"
      ]
     },
     "execution_count": 8,
     "metadata": {},
     "output_type": "execute_result"
    }
   ],
   "source": [
    "webdev = .75\n",
    "ds = .25\n",
    "\n",
    "billboard = np.random.random((1000, 2))\n",
    "billboard"
   ]
  },
  {
   "cell_type": "code",
   "execution_count": 9,
   "metadata": {},
   "outputs": [],
   "source": [
    "databoard = billboard < ds"
   ]
  },
  {
   "cell_type": "code",
   "execution_count": 10,
   "metadata": {},
   "outputs": [
    {
     "data": {
      "text/plain": [
       "0.073"
      ]
     },
     "execution_count": 10,
     "metadata": {},
     "output_type": "execute_result"
    }
   ],
   "source": [
    "(databoard.sum(axis=1) == 2).mean()"
   ]
  },
  {
   "cell_type": "markdown",
   "metadata": {},
   "source": [
    "### 4. Codeup students buy, on average, 3 poptart packages with a standard deviation of 1.5 a day from the snack vending machine. If on monday the machine is restocked with 17 poptart packages, how likely is it that I will be able to buy some poptarts on Friday afternoon? (Remember, if you have mean and standard deviation, use the np.random.normal) You'll need to make a judgement call on how to handle some of your values"
   ]
  },
  {
   "cell_type": "code",
   "execution_count": 11,
   "metadata": {},
   "outputs": [
    {
     "data": {
      "text/plain": [
       "61.3"
      ]
     },
     "execution_count": 11,
     "metadata": {},
     "output_type": "execute_result"
    }
   ],
   "source": [
    "avgpop = 3\n",
    "stdpop = 1.5\n",
    "weekpop = 17\n",
    "pop = np.random.normal(avgpop,stdpop, (10000,5))\n",
    "pop\n",
    "\n",
    "\n",
    "(pop.sum(axis=1) <= 16).mean() * 100"
   ]
  },
  {
   "cell_type": "code",
   "execution_count": 12,
   "metadata": {},
   "outputs": [
    {
     "data": {
      "text/plain": [
       "11.969223989487427"
      ]
     },
     "execution_count": 12,
     "metadata": {},
     "output_type": "execute_result"
    }
   ],
   "source": [
    "# creating a for loop that would append popleft - i to a new array/list\n",
    "\n",
    "def popcount(pop):\n",
    "    for i in pop:\n",
    "        popleft = 17\n",
    "        popleft -= i\n",
    "        z = i.sum()\n",
    "    return(z)\n",
    "\n",
    "popcount(pop)"
   ]
  },
  {
   "cell_type": "markdown",
   "metadata": {},
   "source": [
    "### 5. Compare Heights\n",
    "\n",
    "- Men have an average height of 178 cm and standard deviation of 8cm.\n",
    "- Women have a mean of 170, standard deviation of 6cm.\n",
    "- Since you have means and standard deviations, you can use np.random.normal to generate observations.\n",
    "- If a man and woman are chosen at random, what is the likelihood the woman is taller than the man?"
   ]
  },
  {
   "cell_type": "code",
   "execution_count": 13,
   "metadata": {},
   "outputs": [
    {
     "data": {
      "text/plain": [
       "array([174.76721313, 170.19880646, 174.96000221, ..., 175.60964483,\n",
       "       164.05618397, 156.20135522])"
      ]
     },
     "execution_count": 13,
     "metadata": {},
     "output_type": "execute_result"
    }
   ],
   "source": [
    "men_mean = 178\n",
    "men_std = 8\n",
    "women_mean = 170\n",
    "women_std = 6\n",
    "\n",
    "men = np.random.normal(men_mean,men_std,100000)\n",
    "men\n",
    "women = np.random.normal(women_mean,women_std,100000)\n",
    "women"
   ]
  },
  {
   "cell_type": "code",
   "execution_count": 14,
   "metadata": {},
   "outputs": [
    {
     "data": {
      "text/plain": [
       "array([ True, False,  True, ...,  True, False, False])"
      ]
     },
     "execution_count": 14,
     "metadata": {},
     "output_type": "execute_result"
    }
   ],
   "source": [
    "comparison = (men < women)\n",
    "comparison"
   ]
  },
  {
   "cell_type": "code",
   "execution_count": 15,
   "metadata": {},
   "outputs": [
    {
     "data": {
      "text/plain": [
       "21.387"
      ]
     },
     "execution_count": 15,
     "metadata": {},
     "output_type": "execute_result"
    }
   ],
   "source": [
    "compare_sum = (comparison == True).sum()\n",
    "compare_sum / len(men) * 100"
   ]
  },
  {
   "cell_type": "markdown",
   "metadata": {},
   "source": [
    "### 6. When installing anaconda on a student's computer, there's a 1 in 250 chance that the download is corrupted and the installation fails. What are the odds that after having 50 students download anaconda, no one has an installation issue? 100 students?\n",
    "\n",
    " - What is the probability that we observe an installation issue within the first 150 students that download anaconda?\n",
    "\n",
    " - How likely is it that 450 students all download anaconda without an issue?"
   ]
  },
  {
   "cell_type": "code",
   "execution_count": 16,
   "metadata": {},
   "outputs": [
    {
     "data": {
      "text/plain": [
       "0.12117"
      ]
     },
     "execution_count": 16,
     "metadata": {},
     "output_type": "execute_result"
    }
   ],
   "source": [
    "fail_chance = .004\n",
    "download = np.random.random((100000,150))\n",
    "\n",
    "fail = (download < fail_chance)\n",
    "(fail.sum(axis=1) > 1).mean()"
   ]
  },
  {
   "cell_type": "code",
   "execution_count": 17,
   "metadata": {},
   "outputs": [
    {
     "data": {
      "text/plain": [
       "0.53844"
      ]
     },
     "execution_count": 17,
     "metadata": {},
     "output_type": "execute_result"
    }
   ],
   "source": [
    "fail_chance = .004\n",
    "download = np.random.random((100000,450))\n",
    "\n",
    "fail = (download < fail_chance)\n",
    "(fail.sum(axis=1) > 1).mean()"
   ]
  },
  {
   "cell_type": "markdown",
   "metadata": {},
   "source": [
    "### 7. There's a 70% chance on any given day that there will be at least one food truck at Travis Park. However, you haven't seen a food truck there in 3 days. How unlikely is this?\n",
    "- How likely is it that a food truck will show up sometime this week?"
   ]
  },
  {
   "cell_type": "code",
   "execution_count": 18,
   "metadata": {},
   "outputs": [
    {
     "data": {
      "text/plain": [
       "2.67"
      ]
     },
     "execution_count": 18,
     "metadata": {},
     "output_type": "execute_result"
    }
   ],
   "source": [
    "truck_chance = .7\n",
    "\n",
    "day_chance = np.random.random((10000,3))\n",
    "\n",
    "truck = (day_chance < truck_chance)\n",
    "truck\n",
    "(truck.sum(axis=1) < True).mean() * 100"
   ]
  },
  {
   "cell_type": "code",
   "execution_count": 19,
   "metadata": {},
   "outputs": [
    {
     "data": {
      "text/plain": [
       "96.81"
      ]
     },
     "execution_count": 19,
     "metadata": {},
     "output_type": "execute_result"
    }
   ],
   "source": [
    "week_chance = np.random.random((10000,5))\n",
    "truck = (week_chance < truck_chance)\n",
    "(truck.sum(axis=1) > True).mean() * 100"
   ]
  },
  {
   "cell_type": "markdown",
   "metadata": {},
   "source": [
    "### 8. If 23 people are in the same room, what are the odds that two of them share a birthday? What if it's 20 people? 40?"
   ]
  },
  {
   "cell_type": "code",
   "execution_count": 20,
   "metadata": {},
   "outputs": [
    {
     "data": {
      "text/plain": [
       "array([[341, 282, 346, ..., 104, 178, 225],\n",
       "       [142,  89, 268, ..., 144,  56, 117],\n",
       "       [ 23, 189, 134, ..., 272,  98,  25],\n",
       "       ...,\n",
       "       [ 62,  88, 270, ...,  21, 163, 242],\n",
       "       [308,  55, 143, ..., 280, 332,  46],\n",
       "       [322, 312, 225, ..., 185, 278, 303]])"
      ]
     },
     "execution_count": 20,
     "metadata": {},
     "output_type": "execute_result"
    }
   ],
   "source": [
    "\n",
    "n_trials = ncols = 23\n",
    "n_simulations = nrows = 100_000\n",
    "\n",
    "# Create matrix\n",
    "birthday = np.random.choice(range(365),size=(n_simulations, n_trials))\n",
    "birthday"
   ]
  },
  {
   "cell_type": "code",
   "execution_count": 21,
   "metadata": {},
   "outputs": [
    {
     "data": {
      "text/plain": [
       "0.50943"
      ]
     },
     "execution_count": 21,
     "metadata": {},
     "output_type": "execute_result"
    }
   ],
   "source": [
    "birthday_df = pd.DataFrame(birthday)\n",
    "(birthday_df.nunique(axis=1) < n_trials).mean()"
   ]
  },
  {
   "cell_type": "code",
   "execution_count": 22,
   "metadata": {},
   "outputs": [
    {
     "data": {
      "text/plain": [
       "0.41327"
      ]
     },
     "execution_count": 22,
     "metadata": {},
     "output_type": "execute_result"
    }
   ],
   "source": [
    "# For 20 people:\n",
    "n_trials = ncols = 20\n",
    "\n",
    "# Create matrix\n",
    "birthday = np.random.choice(range(365),size=(n_simulations, n_trials))\n",
    "birthday_df = pd.DataFrame(birthday)\n",
    "(birthday_df.nunique(axis=1) < n_trials).mean()"
   ]
  },
  {
   "cell_type": "code",
   "execution_count": 23,
   "metadata": {},
   "outputs": [
    {
     "data": {
      "text/plain": [
       "0.89097"
      ]
     },
     "execution_count": 23,
     "metadata": {},
     "output_type": "execute_result"
    }
   ],
   "source": [
    "# For 40 people:\n",
    "n_trials = ncols = 40\n",
    "\n",
    "# Create matrix\n",
    "birthday = np.random.choice(range(365),size=(n_simulations, n_trials))\n",
    "birthday_df = pd.DataFrame(birthday)\n",
    "(birthday_df.nunique(axis=1) < n_trials).mean()"
   ]
  }
 ],
 "metadata": {
  "kernelspec": {
   "display_name": "codeup",
   "language": "python",
   "name": "python3"
  },
  "language_info": {
   "codemirror_mode": {
    "name": "ipython",
    "version": 3
   },
   "file_extension": ".py",
   "mimetype": "text/x-python",
   "name": "python",
   "nbconvert_exporter": "python",
   "pygments_lexer": "ipython3",
   "version": "3.11.4"
  },
  "orig_nbformat": 4
 },
 "nbformat": 4,
 "nbformat_minor": 2
}
