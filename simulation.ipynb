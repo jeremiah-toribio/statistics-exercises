{
 "cells": [
  {
   "cell_type": "code",
   "execution_count": 12,
   "metadata": {},
   "outputs": [],
   "source": [
    "import numpy as np\n",
    "import pandas as pd"
   ]
  },
  {
   "cell_type": "markdown",
   "metadata": {},
   "source": [
    "### 1. How likely is it that you roll doubles when rolling two dice?"
   ]
  },
  {
   "cell_type": "code",
   "execution_count": null,
   "metadata": {},
   "outputs": [],
   "source": [
    "# rolling "
   ]
  },
  {
   "cell_type": "code",
   "execution_count": 2,
   "metadata": {},
   "outputs": [
    {
     "data": {
      "text/plain": [
       "0.027777777777777776"
      ]
     },
     "execution_count": 2,
     "metadata": {},
     "output_type": "execute_result"
    }
   ],
   "source": [
    "1/ 36 "
   ]
  },
  {
   "cell_type": "markdown",
   "metadata": {},
   "source": [
    "### 2. If you flip 8 coins, what is the probability of getting exactly 3 heads? What is the probability of getting more than 3 heads?"
   ]
  },
  {
   "cell_type": "code",
   "execution_count": 10,
   "metadata": {},
   "outputs": [
    {
     "data": {
      "text/plain": [
       "0.1875"
      ]
     },
     "execution_count": 10,
     "metadata": {},
     "output_type": "execute_result"
    }
   ],
   "source": [
    "# amount of heads looking for divided by total trials\n",
    "1.5 / 8\n",
    "# .19 or 19% is the probability of getting exactly 3 heads"
   ]
  },
  {
   "cell_type": "code",
   "execution_count": 16,
   "metadata": {},
   "outputs": [
    {
     "data": {
      "text/plain": [
       "array([[0.80391909, 0.46872524],\n",
       "       [0.74995667, 0.0745744 ],\n",
       "       [0.14744663, 0.70660873],\n",
       "       [0.41316469, 0.07170945],\n",
       "       [0.6028243 , 0.35529988],\n",
       "       [0.86942581, 0.03853796],\n",
       "       [0.88585224, 0.70635403],\n",
       "       [0.65127449, 0.32453128],\n",
       "       [0.55519717, 0.30503529],\n",
       "       [0.3629507 , 0.96225093],\n",
       "       [0.45863181, 0.29047911],\n",
       "       [0.48133786, 0.10941424],\n",
       "       [0.28175339, 0.30618843],\n",
       "       [0.10351444, 0.09502604],\n",
       "       [0.68701824, 0.11598702],\n",
       "       [0.0574106 , 0.97644476],\n",
       "       [0.19251241, 0.498926  ],\n",
       "       [0.12542207, 0.76847544],\n",
       "       [0.3803266 , 0.26793126],\n",
       "       [0.7156328 , 0.27346912],\n",
       "       [0.49297471, 0.52361962],\n",
       "       [0.45895813, 0.96055269],\n",
       "       [0.98969133, 0.08426878],\n",
       "       [0.042694  , 0.24219399],\n",
       "       [0.68508771, 0.36725647],\n",
       "       [0.31902829, 0.33322644],\n",
       "       [0.51608144, 0.84351775],\n",
       "       [0.35139738, 0.11154765],\n",
       "       [0.5554793 , 0.15300477],\n",
       "       [0.46470086, 0.0698888 ],\n",
       "       [0.81492253, 0.28080093],\n",
       "       [0.32814418, 0.70057013],\n",
       "       [0.88373223, 0.38322417],\n",
       "       [0.68401752, 0.4334572 ],\n",
       "       [0.17510379, 0.69330767],\n",
       "       [0.98104799, 0.02875552],\n",
       "       [0.98309852, 0.36256105],\n",
       "       [0.6362888 , 0.00712108],\n",
       "       [0.27677779, 0.71274811],\n",
       "       [0.03575158, 0.6565941 ],\n",
       "       [0.24454612, 0.80906012],\n",
       "       [0.67435168, 0.08261256],\n",
       "       [0.65426896, 0.72208078],\n",
       "       [0.17960806, 0.01077923],\n",
       "       [0.10186176, 0.11071567],\n",
       "       [0.62983691, 0.89422891],\n",
       "       [0.2269624 , 0.96128017],\n",
       "       [0.69928206, 0.51137212],\n",
       "       [0.24740688, 0.48663438],\n",
       "       [0.37176719, 0.91456378],\n",
       "       [0.12079122, 0.29815637],\n",
       "       [0.5333453 , 0.44056701],\n",
       "       [0.65229964, 0.22338129],\n",
       "       [0.07938923, 0.55834473],\n",
       "       [0.23337172, 0.76832883],\n",
       "       [0.89658453, 0.5341415 ],\n",
       "       [0.24288543, 0.16709221],\n",
       "       [0.64872826, 0.83666581],\n",
       "       [0.48454753, 0.90508839],\n",
       "       [0.69821834, 0.39621152],\n",
       "       [0.39082883, 0.42776203],\n",
       "       [0.07792822, 0.05944768],\n",
       "       [0.46099001, 0.062252  ],\n",
       "       [0.6538009 , 0.7992389 ],\n",
       "       [0.73447018, 0.16723895],\n",
       "       [0.31806761, 0.63332117],\n",
       "       [0.96735918, 0.2379679 ],\n",
       "       [0.04110527, 0.41587142],\n",
       "       [0.62263431, 0.15609356],\n",
       "       [0.58612512, 0.61273027],\n",
       "       [0.96906853, 0.00269242],\n",
       "       [0.37603027, 0.34699117],\n",
       "       [0.22651601, 0.61644835],\n",
       "       [0.2446025 , 0.31560821],\n",
       "       [0.76039593, 0.12411539],\n",
       "       [0.43892827, 0.03426215],\n",
       "       [0.87971698, 0.11941069],\n",
       "       [0.57393134, 0.64381452],\n",
       "       [0.03558365, 0.79106347],\n",
       "       [0.57110837, 0.174086  ],\n",
       "       [0.17499885, 0.22666666],\n",
       "       [0.21991312, 0.96697891],\n",
       "       [0.05348763, 0.43660472],\n",
       "       [0.28536623, 0.95000893],\n",
       "       [0.01263953, 0.93100508],\n",
       "       [0.74972399, 0.04482518],\n",
       "       [0.0698613 , 0.65009617],\n",
       "       [0.32914665, 0.6904321 ],\n",
       "       [0.52883502, 0.72827886],\n",
       "       [0.31447475, 0.19846676],\n",
       "       [0.67104171, 0.12328896],\n",
       "       [0.20055691, 0.9310102 ],\n",
       "       [0.41308184, 0.33547897],\n",
       "       [0.75405623, 0.45764386],\n",
       "       [0.18828657, 0.70600146],\n",
       "       [0.18862172, 0.23000129],\n",
       "       [0.37051297, 0.03138426],\n",
       "       [0.85296818, 0.16862744],\n",
       "       [0.3236612 , 0.85600192],\n",
       "       [0.51823698, 0.97238803]])"
      ]
     },
     "execution_count": 16,
     "metadata": {},
     "output_type": "execute_result"
    }
   ],
   "source": [
    "flips = 8 \n",
    "head_prob = .19\n",
    "rows = 0\n",
    "head_count = np.random.random((100, 2))\n",
    "head_count"
   ]
  },
  {
   "cell_type": "markdown",
   "metadata": {},
   "source": [
    "### 3. There are approximitely 3 web development cohorts for every 1 data science cohort at Codeup. Assuming that Codeup randomly selects an alumni to put on a billboard, what are the odds that the two billboards I drive past both have data science students on them?"
   ]
  },
  {
   "cell_type": "markdown",
   "metadata": {},
   "source": [
    "### 4. Codeup students buy, on average, 3 poptart packages with a standard deviation of 1.5 a day from the snack vending machine. If on monday the machine is restocked with 17 poptart packages, how likely is it that I will be able to buy some poptarts on Friday afternoon? (Remember, if you have mean and standard deviation, use the np.random.normal) You'll need to make a judgement call on how to handle some of your values"
   ]
  },
  {
   "cell_type": "markdown",
   "metadata": {},
   "source": [
    "### 5. Compare Heights\n",
    "\n",
    "- Men have an average height of 178 cm and standard deviation of 8cm.\n",
    "- Women have a mean of 170, sd = 6cm.\n",
    "- Since you have means and standard deviations, you can use np.random.normal to generate observations.\n",
    "- If a man and woman are chosen at random, what is the likelihood the woman is taller than the man?"
   ]
  },
  {
   "cell_type": "markdown",
   "metadata": {},
   "source": [
    "### 6. When installing anaconda on a student's computer, there's a 1 in 250 chance that the download is corrupted and the installation fails. What are the odds that after having 50 students download anaconda, no one has an installation issue? 100 students?\n",
    "\n",
    " - What is the probability that we observe an installation issue within the first 150 students that download anaconda?\n",
    "\n",
    " - How likely is it that 450 students all download anaconda without an issue?"
   ]
  },
  {
   "cell_type": "markdown",
   "metadata": {},
   "source": [
    "### 7. There's a 70% chance on any given day that there will be at least one food truck at Travis Park. However, you haven't seen a food truck there in 3 days. How unlikely is this?\n",
    "- How likely is it that a food truck will show up sometime this week?"
   ]
  },
  {
   "cell_type": "markdown",
   "metadata": {},
   "source": [
    "- If 23 people are in the same room, what are the odds that two of them share a birthday? What if it's 20 people? 40?"
   ]
  },
  {
   "cell_type": "markdown",
   "metadata": {},
   "source": []
  }
 ],
 "metadata": {
  "kernelspec": {
   "display_name": "codeup",
   "language": "python",
   "name": "python3"
  },
  "language_info": {
   "codemirror_mode": {
    "name": "ipython",
    "version": 3
   },
   "file_extension": ".py",
   "mimetype": "text/x-python",
   "name": "python",
   "nbconvert_exporter": "python",
   "pygments_lexer": "ipython3",
   "version": "3.11.4"
  },
  "orig_nbformat": 4
 },
 "nbformat": 4,
 "nbformat_minor": 2
}
